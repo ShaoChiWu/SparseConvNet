{
 "cells": [
  {
   "cell_type": "code",
   "execution_count": 1,
   "metadata": {},
   "outputs": [],
   "source": [
    "import numpy as np"
   ]
  },
  {
   "cell_type": "code",
   "execution_count": 9,
   "metadata": {},
   "outputs": [],
   "source": [
    "text_file = open(\"copy.txt\", \"r\")"
   ]
  },
  {
   "cell_type": "code",
   "execution_count": 10,
   "metadata": {},
   "outputs": [],
   "source": [
    "lines = text_file.read().splitlines()"
   ]
  },
  {
   "cell_type": "code",
   "execution_count": 58,
   "metadata": {},
   "outputs": [
    {
     "name": "stdout",
     "output_type": "stream",
     "text": [
      "[[ 22.946   8.392   3.035 206.    207.    199.   ]\n",
      " [ 23.218   8.39    3.016 184.    188.    191.   ]\n",
      " [ 22.616   8.395   3.014 191.    194.    201.   ]\n",
      " [ 23.111   8.39    3.016 188.    191.    196.   ]\n",
      " [ 22.789   8.394   3.038 210.    210.    210.   ]\n",
      " [ 22.923   8.392   3.022 197.    201.    204.   ]\n",
      " [ 22.704   8.394   3.03  195.    197.    194.   ]\n",
      " [ 23.08    8.391   3.021 190.    192.    191.   ]\n",
      " [ 23.06    8.391   3.015 188.    189.    194.   ]]\n",
      "(9, 6) float64\n",
      "[0 0 0 0 1 1 1 1 1]\n",
      "(9,) int64\n"
     ]
    }
   ],
   "source": [
    "array_list = []\n",
    "cat = []\n",
    "f = open(\"copy.txt\")\n",
    "f1 = open(\"find.txt\")\n",
    "scenes = f.read().splitlines()\n",
    "scenes1 = f1.read().splitlines()\n",
    "#print(scenes)\n",
    "\n",
    "for scene1 in scenes1:\n",
    "    a = [float(x) for x in scene1.split()]\n",
    "    array_list.append(a)\n",
    "    for index in range(int(len(a)/6)):\n",
    "        cat.append(0)\n",
    "    #print(array_list)\n",
    "    \n",
    "for scene in scenes:\n",
    "    a = [float(x) for x in scene.split()]\n",
    "    array_list.append(a)\n",
    "    for index in range(int(len(a)/6)):\n",
    "        cat.append(1)\n",
    "    #print(array_list)\n",
    "\n",
    "array = np.array(array_list).reshape(-1,6)\n",
    "cat_array = np.array(cat)\n",
    "print(array)\n",
    "print(array.shape, array.dtype)\n",
    "print(cat_array)\n",
    "print(cat_array.shape, cat_array.dtype)"
   ]
  },
  {
   "cell_type": "markdown",
   "metadata": {},
   "source": []
  }
 ],
 "metadata": {
  "kernelspec": {
   "display_name": "Python 3",
   "language": "python",
   "name": "python3"
  },
  "language_info": {
   "codemirror_mode": {
    "name": "ipython",
    "version": 3
   },
   "file_extension": ".py",
   "mimetype": "text/x-python",
   "name": "python",
   "nbconvert_exporter": "python",
   "pygments_lexer": "ipython3",
   "version": "3.6.8"
  }
 },
 "nbformat": 4,
 "nbformat_minor": 2
}
